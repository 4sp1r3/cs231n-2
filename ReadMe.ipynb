{
 "cells": [
  {
   "cell_type": "markdown",
   "metadata": {},
   "source": [
    "# “用于视觉识别的卷积神经网络”笔记\n",
    "\n",
    "## 简介\n",
    "\n",
    "**作者：子实**\n",
    "\n",
    "机器学习笔记，使用 `jupyter notebook` 编写展示。\n",
    "\n",
    "`Github` 加载 `.ipynb` 的速度较慢，建议在 [Nbviewer](http://nbviewer.jupyter.org/github/zlotus/notes-LSJU-cnn-for-visual-recognition/blob/master/ReadMe.ipynb?flush_cache=true) 中查看。\n",
    "\n",
    "----\n",
    "\n",
    "## 目录\n",
    "\n",
    "来自斯坦福网络课程《用于视觉识别的卷积神经网络》的笔记：\n",
    "* [CS231n: Convolutional Neural Networks for Visual Recognition](http://cs231n.github.io/) 查看原文笔记；\n",
    "* [CS231n Winter 2016](https://www.youtube.com/playlist?list=PLkt2uSq6rBVctENoVBg1TpCC7OQi31AlC) 观看授课视频。"
   ]
  }
 ],
 "metadata": {
  "anaconda-cloud": {},
  "kernelspec": {
   "display_name": "Python [conda env:tensorflow]",
   "language": "python",
   "name": "conda-env-tensorflow-py"
  },
  "language_info": {
   "codemirror_mode": {
    "name": "ipython",
    "version": 3
   },
   "file_extension": ".py",
   "mimetype": "text/x-python",
   "name": "python",
   "nbconvert_exporter": "python",
   "pygments_lexer": "ipython3",
   "version": "3.5.2"
  }
 },
 "nbformat": 4,
 "nbformat_minor": 0
}
