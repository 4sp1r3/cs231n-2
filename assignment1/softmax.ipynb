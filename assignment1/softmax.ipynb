{
 "cells": [
  {
   "cell_type": "markdown",
   "metadata": {},
   "source": [
    "# Softmax exercise\n",
    "\n",
    "*Complete and hand in this completed worksheet (including its outputs and any supporting code outside of the worksheet) with your assignment submission. For more details see the [assignments page](http://vision.stanford.edu/teaching/cs231n/assignments.html) on the course website.*\n",
    "\n",
    "This exercise is analogous to the SVM exercise. You will:\n",
    "\n",
    "- implement a fully-vectorized **loss function** for the Softmax classifier\n",
    "- implement the fully-vectorized expression for its **analytic gradient**\n",
    "- **check your implementation** with numerical gradient\n",
    "- use a validation set to **tune the learning rate and regularization** strength\n",
    "- **optimize** the loss function with **SGD**\n",
    "- **visualize** the final learned weights\n"
   ]
  },
  {
   "cell_type": "code",
   "execution_count": 1,
   "metadata": {
    "collapsed": false
   },
   "outputs": [],
   "source": [
    "import random\n",
    "import numpy as np\n",
    "from cs231n.data_utils import load_CIFAR10\n",
    "import matplotlib.pyplot as plt\n",
    "%matplotlib inline\n",
    "plt.rcParams['figure.figsize'] = (10.0, 8.0) # set default size of plots\n",
    "plt.rcParams['image.interpolation'] = 'nearest'\n",
    "plt.rcParams['image.cmap'] = 'gray'\n",
    "\n",
    "# for auto-reloading extenrnal modules\n",
    "# see http://stackoverflow.com/questions/1907993/autoreload-of-modules-in-ipython\n",
    "%load_ext autoreload\n",
    "%autoreload 2"
   ]
  },
  {
   "cell_type": "code",
   "execution_count": 2,
   "metadata": {
    "collapsed": false
   },
   "outputs": [
    {
     "name": "stdout",
     "output_type": "stream",
     "text": [
      "Train data shape:  (49000, 3073)\n",
      "Train labels shape:  (49000,)\n",
      "Validation data shape:  (1000, 3073)\n",
      "Validation labels shape:  (1000,)\n",
      "Test data shape:  (1000, 3073)\n",
      "Test labels shape:  (1000,)\n",
      "dev data shape:  (500, 3073)\n",
      "dev labels shape:  (500,)\n"
     ]
    }
   ],
   "source": [
    "def get_CIFAR10_data(num_training=49000, num_validation=1000, num_test=1000, num_dev=500):\n",
    "  \"\"\"\n",
    "  Load the CIFAR-10 dataset from disk and perform preprocessing to prepare\n",
    "  it for the linear classifier. These are the same steps as we used for the\n",
    "  SVM, but condensed to a single function.  \n",
    "  \"\"\"\n",
    "  # Load the raw CIFAR-10 data\n",
    "  cifar10_dir = 'cs231n/datasets/cifar-10-batches-py'\n",
    "  X_train, y_train, X_test, y_test = load_CIFAR10(cifar10_dir)\n",
    "  \n",
    "  # subsample the data\n",
    "  mask = range(num_training, num_training + num_validation)\n",
    "  X_val = X_train[mask]\n",
    "  y_val = y_train[mask]\n",
    "  mask = range(num_training)\n",
    "  X_train = X_train[mask]\n",
    "  y_train = y_train[mask]\n",
    "  mask = range(num_test)\n",
    "  X_test = X_test[mask]\n",
    "  y_test = y_test[mask]\n",
    "  mask = np.random.choice(num_training, num_dev, replace=False)\n",
    "  X_dev = X_train[mask]\n",
    "  y_dev = y_train[mask]\n",
    "  \n",
    "  # Preprocessing: reshape the image data into rows\n",
    "  X_train = np.reshape(X_train, (X_train.shape[0], -1))\n",
    "  X_val = np.reshape(X_val, (X_val.shape[0], -1))\n",
    "  X_test = np.reshape(X_test, (X_test.shape[0], -1))\n",
    "  X_dev = np.reshape(X_dev, (X_dev.shape[0], -1))\n",
    "  \n",
    "  # Normalize the data: subtract the mean image\n",
    "  mean_image = np.mean(X_train, axis = 0)\n",
    "  X_train -= mean_image\n",
    "  X_val -= mean_image\n",
    "  X_test -= mean_image\n",
    "  X_dev -= mean_image\n",
    "  \n",
    "  # add bias dimension and transform into columns\n",
    "  X_train = np.hstack([X_train, np.ones((X_train.shape[0], 1))])\n",
    "  X_val = np.hstack([X_val, np.ones((X_val.shape[0], 1))])\n",
    "  X_test = np.hstack([X_test, np.ones((X_test.shape[0], 1))])\n",
    "  X_dev = np.hstack([X_dev, np.ones((X_dev.shape[0], 1))])\n",
    "  \n",
    "  return X_train, y_train, X_val, y_val, X_test, y_test, X_dev, y_dev\n",
    "\n",
    "\n",
    "# Invoke the above function to get our data.\n",
    "X_train, y_train, X_val, y_val, X_test, y_test, X_dev, y_dev = get_CIFAR10_data()\n",
    "print 'Train data shape: ', X_train.shape\n",
    "print 'Train labels shape: ', y_train.shape\n",
    "print 'Validation data shape: ', X_val.shape\n",
    "print 'Validation labels shape: ', y_val.shape\n",
    "print 'Test data shape: ', X_test.shape\n",
    "print 'Test labels shape: ', y_test.shape\n",
    "print 'dev data shape: ', X_dev.shape\n",
    "print 'dev labels shape: ', y_dev.shape"
   ]
  },
  {
   "cell_type": "markdown",
   "metadata": {},
   "source": [
    "## Softmax Classifier\n",
    "\n",
    "Your code for this section will all be written inside **cs231n/classifiers/softmax.py**. \n",
    "\n",
    "The loss function now is a cross-entropy loss, for a single data point it forms as:\n",
    "\n",
    "$$\n",
    "L_i = -\\log\\left(\\frac{e^{f_{y_i}}}{ \\sum_j e^{f_j} }\\right) \\hspace{0.5in} \\text{or equivalently} \\hspace{0.5in} L_i = -f_{y_i} + \\log\\sum_j e^{f_j} \\hspace{0.5in} \\text{where} \\hspace{0.5in} f(x_i; W) =  W x_i\n",
    "$$\n",
    "\n",
    "Consider of the numeric stability issues, it's better to have a normalization term $\\log C = -\\max_j f_j$ in the division of the softmax function:\n",
    "\n",
    "$$\n",
    "\\frac{e^{f_{y_i}}}{\\sum_j e^{f_j}}\n",
    "= \\frac{Ce^{f_{y_i}}}{C\\sum_j e^{f_j}}\n",
    "= \\frac{e^{f_{y_i} + \\log C}}{\\sum_j e^{f_j + \\log C}}\n",
    "$$\n",
    "\n",
    "The loss of the entire data set with regularization term forms as:\n",
    "\n",
    "$$\n",
    "\\begin{align}\n",
    "L &= \\frac{1}{N}\\sum_iL_i + \\lambda R(W)\\\\\n",
    "&= \\frac{1}{N}\\sum_i\\left(-\\left(w_{y_i}^Tx_i+\\log C\\right)+\\log\\sum_j\\exp\\left(w_j^Tx_i+\\log C\\right)\\right) + \\frac{\\lambda}{2}\\sum_k\\sum_lW_{k,l}^2\\\\\n",
    "\\end{align}\n",
    "$$\n",
    "\n",
    "The gradient of the loss function for a single data point without regularization term is:\n",
    "\n",
    "$$\n",
    "\\begin{align}\n",
    "\\nabla_{w_{y_i}} L_i &= -x_i+\\frac{\\exp\\left(w_{y_i}^Tx_i+\\log C\\right)}{\\sum_j\\exp\\left(w_j^Tx_i+\\log C\\right)}x_i\\\\\n",
    "&=-\\frac{\\sum_{j\\neq y_i}\\exp\\left(w_j^Tx_i+\\log C\\right)}{\\sum_j\\exp\\left(w_j^Tx_i+\\log C\\right)}x_i\\\\\n",
    "\\nabla_{w_{j}} L_i &= \\frac{\\exp\\left(w_j^Tx_i+\\log C\\right)}{\\sum_j\\exp\\left(w_j^Tx_i+\\log C\\right)}x_i\n",
    "\\end{align}\n",
    "$$"
   ]
  },
  {
   "cell_type": "code",
   "execution_count": 3,
   "metadata": {
    "collapsed": false
   },
   "outputs": [
    {
     "name": "stdout",
     "output_type": "stream",
     "text": [
      "loss: 2.401178\n",
      "sanity check: 2.302585\n"
     ]
    }
   ],
   "source": [
    "# First implement the naive softmax loss function with nested loops.\n",
    "# Open the file cs231n/classifiers/softmax.py and implement the\n",
    "# softmax_loss_naive function.\n",
    "\n",
    "from cs231n.classifiers.softmax import softmax_loss_naive\n",
    "import time\n",
    "\n",
    "# Generate a random softmax weight matrix and use it to compute the loss.\n",
    "W = np.random.randn(3073, 10) * 0.0001\n",
    "loss, grad = softmax_loss_naive(W, X_dev, y_dev, 0.0)\n",
    "\n",
    "# As a rough sanity check, our loss should be something close to -log(0.1).\n",
    "print 'loss: %f' % loss\n",
    "print 'sanity check: %f' % (-np.log(0.1))"
   ]
  },
  {
   "cell_type": "markdown",
   "metadata": {},
   "source": [
    "## Inline Question 1:\n",
    "Why do we expect our loss to be close to -log(0.1)? Explain briefly.**\n",
    "\n",
    "**Your answer:** *Because the accuracy of an random weight matrix which classifies the images into 10 classes is 10%, then the log softmax function is close to $\\displaystyle-\\log\\frac{1}{10}.$*\n"
   ]
  },
  {
   "cell_type": "code",
   "execution_count": 4,
   "metadata": {
    "collapsed": false
   },
   "outputs": [
    {
     "name": "stdout",
     "output_type": "stream",
     "text": [
      "numerical: 0.190098 analytic: 0.190098, relative error: 7.447629e-08\n",
      "numerical: 1.098704 analytic: 1.098704, relative error: 5.801854e-09\n",
      "numerical: -0.730492 analytic: -0.730492, relative error: 1.518077e-08\n",
      "numerical: -1.316868 analytic: -1.316868, relative error: 1.469964e-08\n",
      "numerical: -1.787036 analytic: -1.787036, relative error: 8.369600e-09\n",
      "numerical: -1.515415 analytic: -1.515415, relative error: 1.116245e-08\n",
      "numerical: -0.799488 analytic: -0.799488, relative error: 1.521986e-08\n",
      "numerical: 1.217489 analytic: 1.217489, relative error: 1.715434e-08\n",
      "numerical: -2.198539 analytic: -2.198539, relative error: 1.199292e-09\n",
      "numerical: 2.097222 analytic: 2.097222, relative error: 8.608882e-09\n",
      "numerical: -0.804251 analytic: -0.804251, relative error: 1.022342e-08\n",
      "numerical: -1.856403 analytic: -1.856403, relative error: 2.160345e-09\n",
      "numerical: 1.473617 analytic: 1.473617, relative error: 2.687534e-08\n",
      "numerical: -0.209801 analytic: -0.209801, relative error: 4.920668e-08\n",
      "numerical: -0.246858 analytic: -0.246858, relative error: 7.124193e-08\n",
      "numerical: 0.991404 analytic: 0.991404, relative error: 5.553513e-08\n",
      "numerical: 0.388957 analytic: 0.388957, relative error: 5.519640e-08\n",
      "numerical: 2.614759 analytic: 2.614758, relative error: 1.092127e-08\n",
      "numerical: 2.915114 analytic: 2.915113, relative error: 2.745964e-08\n",
      "numerical: -6.208706 analytic: -6.208706, relative error: 3.306458e-09\n"
     ]
    }
   ],
   "source": [
    "# Complete the implementation of softmax_loss_naive and implement a (naive)\n",
    "# version of the gradient that uses nested loops.\n",
    "loss, grad = softmax_loss_naive(W, X_dev, y_dev, 0.0)\n",
    "\n",
    "# As we did for the SVM, use numeric gradient checking as a debugging tool.\n",
    "# The numeric gradient should be close to the analytic gradient.\n",
    "from cs231n.gradient_check import grad_check_sparse\n",
    "f = lambda w: softmax_loss_naive(w, X_dev, y_dev, 0.0)[0]\n",
    "grad_numerical = grad_check_sparse(f, W, grad, 10)\n",
    "\n",
    "# similar to SVM case, do another gradient check with regularization\n",
    "loss, grad = softmax_loss_naive(W, X_dev, y_dev, 1e2)\n",
    "f = lambda w: softmax_loss_naive(w, X_dev, y_dev, 1e2)[0]\n",
    "grad_numerical = grad_check_sparse(f, W, grad, 10)"
   ]
  },
  {
   "cell_type": "markdown",
   "metadata": {},
   "source": [
    "From another perspective, softmax function compute the probability of each sample in all class:\n",
    "\n",
    "$$\n",
    "p\\left(y_i=k\\mid x_i;w\\right)=\\frac{\\exp\\left(w_k^Tx_i+\\log C\\right)}{\\sum_j\\exp\\left(w_j^Tx_i+\\log C\\right)}\n",
    "$$\n",
    "\n",
    "The loss function can be written as:\n",
    "\n",
    "$$\n",
    "\\begin{align}\n",
    "L&=-\\frac{1}{N}\\left[\\sum_{i=1}^N\\sum_{j=1}^C1\\{y_i=j\\}\\log\\left(\\frac{\\exp\\left(w_k^Tx_i+\\log C\\right)}{\\sum_j\\exp\\left(w_j^Tx_i+\\log C\\right)}\\right)\\right]+\\frac{\\lambda}{2}\\sum_{k=1}^D\\sum_{l=1}^Cw_{k,l}^2\\\\\n",
    "&=-\\frac{1}{N}\\left[\\sum_{i=1}^N\\sum_{j=1}^C1\\{y_i=j\\}\\log\\left(p\\left(y_i=k\\mid x_i;w\\right)\\right)\\right]+\\frac{\\lambda}{2}\\sum_{k=1}^D\\sum_{l=1}^Cw_{k,l}^2\\\\\n",
    "\\end{align}\n",
    "$$\n",
    "\n",
    "Then the gradient is:\n",
    "\n",
    "$$\n",
    "\\nabla_{w_j}L=-\\frac{1}{N}\\sum_{i=1}^N[x_i(1\\{y_i=j\\}-p\\left(y_i=k\\mid x_i;w\\right))]+\\lambda w_j\n",
    "$$"
   ]
  },
  {
   "cell_type": "code",
   "execution_count": 5,
   "metadata": {
    "collapsed": false
   },
   "outputs": [
    {
     "name": "stdout",
     "output_type": "stream",
     "text": [
      "naive loss: 2.401178e+00 computed in 0.134400s\n",
      "vectorized loss: 2.401178e+00 computed in 0.006067s\n",
      "Loss difference: 0.000000\n",
      "Gradient difference: 0.000000\n"
     ]
    }
   ],
   "source": [
    "# Now that we have a naive implementation of the softmax loss function and its gradient,\n",
    "# implement a vectorized version in softmax_loss_vectorized.\n",
    "# The two versions should compute the same results, but the vectorized version should be\n",
    "# much faster.\n",
    "tic = time.time()\n",
    "loss_naive, grad_naive = softmax_loss_naive(W, X_dev, y_dev, 0.00001)\n",
    "toc = time.time()\n",
    "print 'naive loss: %e computed in %fs' % (loss_naive, toc - tic)\n",
    "\n",
    "from cs231n.classifiers.softmax import softmax_loss_vectorized\n",
    "tic = time.time()\n",
    "loss_vectorized, grad_vectorized = softmax_loss_vectorized(W, X_dev, y_dev, 0.00001)\n",
    "toc = time.time()\n",
    "print 'vectorized loss: %e computed in %fs' % (loss_vectorized, toc - tic)\n",
    "\n",
    "# As we did for the SVM, we use the Frobenius norm to compare the two versions\n",
    "# of the gradient.\n",
    "grad_difference = np.linalg.norm(grad_naive - grad_vectorized, ord='fro')\n",
    "print 'Loss difference: %f' % np.abs(loss_naive - loss_vectorized)\n",
    "print 'Gradient difference: %f' % grad_difference"
   ]
  },
  {
   "cell_type": "code",
   "execution_count": 6,
   "metadata": {
    "collapsed": false
   },
   "outputs": [
    {
     "name": "stdout",
     "output_type": "stream",
     "text": [
      "iteration 0 / 1500: loss 782.102394\n",
      "iteration 100 / 1500: loss 287.314098\n",
      "iteration 200 / 1500: loss 106.370232\n",
      "iteration 300 / 1500: loss 40.328993\n",
      "iteration 400 / 1500: loss 16.072615\n",
      "iteration 500 / 1500: loss 7.263099\n",
      "iteration 600 / 1500: loss 4.004354\n",
      "iteration 700 / 1500: loss 2.859265\n",
      "iteration 800 / 1500: loss 2.375501\n",
      "iteration 900 / 1500: loss 2.203219\n",
      "iteration 1000 / 1500: loss 2.130022\n",
      "iteration 1100 / 1500: loss 2.073340\n",
      "iteration 1200 / 1500: loss 2.036365\n",
      "iteration 1300 / 1500: loss 2.111310\n",
      "iteration 1400 / 1500: loss 2.053545\n",
      "iteration 0 / 1500: loss 1529424.814801\n"
     ]
    },
    {
     "name": "stderr",
     "output_type": "stream",
     "text": [
      "cs231n/classifiers/softmax.py:87: RuntimeWarning: divide by zero encountered in log\n",
      "  Mask_log_pb = Mask_y * np.log(Probability)\n",
      "cs231n/classifiers/softmax.py:87: RuntimeWarning: invalid value encountered in multiply\n",
      "  Mask_log_pb = Mask_y * np.log(Probability)\n"
     ]
    },
    {
     "name": "stdout",
     "output_type": "stream",
     "text": [
      "iteration 100 / 1500: loss nan\n"
     ]
    },
    {
     "name": "stderr",
     "output_type": "stream",
     "text": [
      "cs231n/classifiers/softmax.py:88: RuntimeWarning: overflow encountered in double_scalars\n",
      "  loss = -np.sum(Mask_log_pb) / num_train + 0.5*reg*np.sum(W*W)\n",
      "cs231n/classifiers/softmax.py:88: RuntimeWarning: overflow encountered in multiply\n",
      "  loss = -np.sum(Mask_log_pb) / num_train + 0.5*reg*np.sum(W*W)\n"
     ]
    },
    {
     "name": "stdout",
     "output_type": "stream",
     "text": [
      "iteration 200 / 1500: loss nan\n",
      "iteration 300 / 1500: loss nan\n"
     ]
    },
    {
     "name": "stderr",
     "output_type": "stream",
     "text": [
      "cs231n/classifiers/softmax.py:92: RuntimeWarning: overflow encountered in multiply\n",
      "  dW = -X.T.dot(Grad_pb) / num_train + reg*W\n"
     ]
    },
    {
     "name": "stdout",
     "output_type": "stream",
     "text": [
      "iteration 400 / 1500: loss nan\n",
      "iteration 500 / 1500: loss nan\n",
      "iteration 600 / 1500: loss nan\n",
      "iteration 700 / 1500: loss nan\n",
      "iteration 800 / 1500: loss nan\n",
      "iteration 900 / 1500: loss nan\n",
      "iteration 1000 / 1500: loss nan\n",
      "iteration 1100 / 1500: loss nan\n",
      "iteration 1200 / 1500: loss nan\n",
      "iteration 1300 / 1500: loss nan\n",
      "iteration 1400 / 1500: loss nan\n",
      "iteration 0 / 1500: loss 777.654577\n",
      "iteration 100 / 1500: loss 6.900604\n",
      "iteration 200 / 1500: loss 2.094474\n",
      "iteration 300 / 1500: loss 2.128352\n",
      "iteration 400 / 1500: loss 2.057783\n",
      "iteration 500 / 1500: loss 2.055967\n",
      "iteration 600 / 1500: loss 2.079336\n",
      "iteration 700 / 1500: loss 2.065548\n",
      "iteration 800 / 1500: loss 2.037040\n",
      "iteration 900 / 1500: loss 2.113238\n",
      "iteration 1000 / 1500: loss 2.111173\n",
      "iteration 1100 / 1500: loss 2.072888\n",
      "iteration 1200 / 1500: loss 2.061489\n",
      "iteration 1300 / 1500: loss 2.125870\n",
      "iteration 1400 / 1500: loss 2.132804\n",
      "iteration 0 / 1500: loss 1549389.909299\n",
      "iteration 100 / 1500: loss nan\n",
      "iteration 200 / 1500: loss nan\n",
      "iteration 300 / 1500: loss nan\n",
      "iteration 400 / 1500: loss nan\n",
      "iteration 500 / 1500: loss nan\n",
      "iteration 600 / 1500: loss nan\n",
      "iteration 700 / 1500: loss nan\n",
      "iteration 800 / 1500: loss nan\n",
      "iteration 900 / 1500: loss nan\n",
      "iteration 1000 / 1500: loss nan\n",
      "iteration 1100 / 1500: loss nan\n",
      "iteration 1200 / 1500: loss nan\n",
      "iteration 1300 / 1500: loss nan\n",
      "iteration 1400 / 1500: loss nan\n",
      "lr 1.000000e-07 reg 5.000000e+04 train accuracy: 0.333571 val accuracy: 0.337000\n",
      "lr 1.000000e-07 reg 1.000000e+08 train accuracy: 0.100265 val accuracy: 0.087000\n",
      "lr 5.000000e-07 reg 5.000000e+04 train accuracy: 0.323347 val accuracy: 0.347000\n",
      "lr 5.000000e-07 reg 1.000000e+08 train accuracy: 0.100265 val accuracy: 0.087000\n",
      "best validation accuracy achieved during cross-validation: 0.347000\n"
     ]
    }
   ],
   "source": [
    "# Use the validation set to tune hyperparameters (regularization strength and\n",
    "# learning rate). You should experiment with different ranges for the learning\n",
    "# rates and regularization strengths; if you are careful you should be able to\n",
    "# get a classification accuracy of over 0.35 on the validation set.\n",
    "from cs231n.classifiers import Softmax\n",
    "results = {}\n",
    "best_val = -1\n",
    "best_softmax = None\n",
    "learning_rates = [1e-7, 5e-7]\n",
    "regularization_strengths = [5e4, 1e8]\n",
    "\n",
    "################################################################################\n",
    "# TODO:                                                                        #\n",
    "# Use the validation set to set the learning rate and regularization strength. #\n",
    "# This should be identical to the validation that you did for the SVM; save    #\n",
    "# the best trained softmax classifer in best_softmax.                          #\n",
    "################################################################################\n",
    "from itertools import product\n",
    "for lr, rs in product(learning_rates, regularization_strengths):\n",
    "    sm = Softmax()\n",
    "    loss_hist = sm.train(X_train, y_train, learning_rate=lr, reg=rs,\n",
    "                         num_iters=1500, verbose=True)\n",
    "    y_train_pred = sm.predict(X_train)\n",
    "    training_accuracy = np.mean(y_train == y_train_pred)\n",
    "    y_val_pred = sm.predict(X_val)\n",
    "    validation_accuracy = np.mean(y_val == y_val_pred)\n",
    "    results[(lr, rs)] = (training_accuracy, validation_accuracy)\n",
    "    if validation_accuracy > best_val:\n",
    "        best_val = validation_accuracy\n",
    "        best_softmax = sm\n",
    "################################################################################\n",
    "#                              END OF YOUR CODE                                #\n",
    "################################################################################\n",
    "    \n",
    "# Print out results.\n",
    "for lr, reg in sorted(results):\n",
    "    train_accuracy, val_accuracy = results[(lr, reg)]\n",
    "    print 'lr %e reg %e train accuracy: %f val accuracy: %f' % (\n",
    "                lr, reg, train_accuracy, val_accuracy)\n",
    "    \n",
    "print 'best validation accuracy achieved during cross-validation: %f' % best_val"
   ]
  },
  {
   "cell_type": "code",
   "execution_count": 7,
   "metadata": {
    "collapsed": false
   },
   "outputs": [
    {
     "name": "stdout",
     "output_type": "stream",
     "text": [
      "softmax on raw pixels final test set accuracy: 0.326000\n"
     ]
    }
   ],
   "source": [
    "# evaluate on test set\n",
    "# Evaluate the best softmax on test set\n",
    "y_test_pred = best_softmax.predict(X_test)\n",
    "test_accuracy = np.mean(y_test == y_test_pred)\n",
    "print 'softmax on raw pixels final test set accuracy: %f' % (test_accuracy, )"
   ]
  },
  {
   "cell_type": "code",
   "execution_count": 8,
   "metadata": {
    "collapsed": false
   },
   "outputs": [
    {
     "data": {
      "image/png": "[encoded data removed]",
      "text/plain": [
       "<matplotlib.figure.Figure at 0x10696fd90>"
      ]
     },
     "metadata": {},
     "output_type": "display_data"
    }
   ],
   "source": [
    "# Visualize the learned weights for each class\n",
    "w = best_softmax.W[:-1,:] # strip out the bias\n",
    "w = w.reshape(32, 32, 3, 10)\n",
    "\n",
    "w_min, w_max = np.min(w), np.max(w)\n",
    "\n",
    "classes = ['plane', 'car', 'bird', 'cat', 'deer', 'dog', 'frog', 'horse', 'ship', 'truck']\n",
    "for i in xrange(10):\n",
    "  plt.subplot(2, 5, i + 1)\n",
    "  \n",
    "  # Rescale the weights to be between 0 and 255\n",
    "  wimg = 255.0 * (w[:, :, :, i].squeeze() - w_min) / (w_max - w_min)\n",
    "  plt.imshow(wimg.astype('uint8'))\n",
    "  plt.axis('off')\n",
    "  plt.title(classes[i])"
   ]
  }
 ],
 "metadata": {
  "kernelspec": {
   "display_name": "Python [conda env:python27]",
   "language": "python",
   "name": "conda-env-python27-py"
  },
  "language_info": {
   "codemirror_mode": {
    "name": "ipython",
    "version": 2
   },
   "file_extension": ".py",
   "mimetype": "text/x-python",
   "name": "python",
   "nbconvert_exporter": "python",
   "pygments_lexer": "ipython2",
   "version": "2.7.12"
  }
 },
 "nbformat": 4,
 "nbformat_minor": 0
}
